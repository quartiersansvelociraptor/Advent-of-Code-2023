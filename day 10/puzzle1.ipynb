{
 "cells": [
  {
   "cell_type": "code",
   "execution_count": 131,
   "metadata": {},
   "outputs": [],
   "source": [
    "import numpy as np"
   ]
  },
  {
   "cell_type": "code",
   "execution_count": 229,
   "metadata": {},
   "outputs": [],
   "source": [
    "with open(\"input1.txt\", \"r\") as readfile:\n",
    "    a = readfile.read()\n",
    "    lines = a.split(\"\\n\")"
   ]
  },
  {
   "cell_type": "code",
   "execution_count": null,
   "metadata": {},
   "outputs": [],
   "source": [
    "#It checks where is the start position and returns its coordinates\n",
    "def start_position(lines):\n",
    "    for idx, line in enumerate(lines):\n",
    "        for idy, character in enumerate(line):\n",
    "            if (character == 'S'):\n",
    "                return (idx,idy)"
   ]
  },
  {
   "cell_type": "code",
   "execution_count": 199,
   "metadata": {},
   "outputs": [],
   "source": [
    "#It checks in clockwise direction starting from the north what is the next step in the path, and returns its coordinates\n",
    "def first_iteration(idx,idy):\n",
    "    #north\n",
    "    if (lines[idx-1][idy] == '|'):\n",
    "        return (idx-1, idy, \"S\")\n",
    "   #north east\n",
    "    elif (lines[idx-1][idy] == 'F'):\n",
    "        return (idx-1, idy+1, \"S\")\n",
    "    #east\n",
    "    elif (lines[idx][idy+1] == '-'):\n",
    "        return (idx, idy+1, \"W\")\n",
    "    #south east\n",
    "    elif (lines[idx+1][idy+1] == 'L'):\n",
    "        return (idx+1, idy+1, \"W\")\n",
    "    #south\n",
    "    elif (lines[idx+1][idy] == '|'):\n",
    "        return (idx+1, idy, \"N\")\n",
    "    #south west\n",
    "    elif (lines[idx+1][idy-1] == 'J'):\n",
    "        return (idx+1, idy-1, \"N\")\n",
    "    #west\n",
    "    elif (lines[idx][idy-1] == '-'):\n",
    "        return (idx, idy-1, \"E\")\n",
    "    #northwest\n",
    "    elif (lines[idx-1][idy-1] == 'L'):\n",
    "        return (idx-1, idy-1, \"E\")"
   ]
  },
  {
   "cell_type": "code",
   "execution_count": 207,
   "metadata": {},
   "outputs": [],
   "source": [
    "#It computes the next coordinates of the path\n",
    "def next_iterations(idx,idy,origen):\n",
    "    if (lines[idx][idy] == \"|\"):\n",
    "        if (origen == \"S\"):\n",
    "            return (idx-1, idy, \"S\")\n",
    "        elif (origen == \"N\"):\n",
    "            return (idx+1, idy, \"N\")\n",
    "    elif (lines[idx][idy] == \"-\"):\n",
    "        if (origen == \"E\"):\n",
    "            return (idx,idy-1, \"E\")\n",
    "        elif (origen == \"W\"):\n",
    "            return (idx, idy+1, \"W\")\n",
    "    elif (lines[idx][idy] == \"L\"):\n",
    "        if (origen == \"E\"):\n",
    "            return (idx-1, idy, \"S\")\n",
    "        elif (origen == \"N\"):\n",
    "            return (idx, idy+1, \"W\")\n",
    "    elif (lines[idx][idy] == \"J\"):\n",
    "        if (origen == \"N\"):\n",
    "            return (idx, idy-1, \"E\")\n",
    "        elif (origen == \"W\"):\n",
    "            return (idx-1, idy, \"S\")\n",
    "    elif (lines[idx][idy] == \"7\"):\n",
    "        if (origen == \"S\"):\n",
    "            return (idx, idy-1, \"E\")\n",
    "        elif (origen == \"W\"):\n",
    "            return (idx+1, idy, \"N\")\n",
    "    elif (lines[idx][idy] == \"F\"):\n",
    "        if (origen == \"S\"):\n",
    "            return (idx, idy+1, \"W\")\n",
    "        elif (origen == \"E\"):\n",
    "            return (idx+1, idy, \"N\")\n",
    "    elif (lines[idx][idy] == \"S\"):\n",
    "        return \"end\""
   ]
  },
  {
   "cell_type": "code",
   "execution_count": 230,
   "metadata": {},
   "outputs": [],
   "source": [
    "trail = []\n",
    "\n",
    "start = start_position(lines)\n",
    "trail.append(start)\n",
    "step = first_iteration(start[0], start[1])\n",
    "trail.append(step[0:2])\n",
    "\n",
    "while (step != \"end\"):\n",
    "    step = next_iterations(step[0], step[1], step[2])\n",
    "    if isinstance(step[0], int):\n",
    "        trail.append(step[0:2])\n",
    "    else:\n",
    "        pass"
   ]
  },
  {
   "cell_type": "code",
   "execution_count": 231,
   "metadata": {},
   "outputs": [
    {
     "data": {
      "text/plain": [
       "6886.5"
      ]
     },
     "execution_count": 231,
     "metadata": {},
     "output_type": "execute_result"
    }
   ],
   "source": [
    "len(trail)/2"
   ]
  }
 ],
 "metadata": {
  "kernelspec": {
   "display_name": "Python 3",
   "language": "python",
   "name": "python3"
  },
  "language_info": {
   "codemirror_mode": {
    "name": "ipython",
    "version": 3
   },
   "file_extension": ".py",
   "mimetype": "text/x-python",
   "name": "python",
   "nbconvert_exporter": "python",
   "pygments_lexer": "ipython3",
   "version": "3.12.1"
  }
 },
 "nbformat": 4,
 "nbformat_minor": 2
}
